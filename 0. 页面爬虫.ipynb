{
 "cells": [
  {
   "cell_type": "markdown",
   "metadata": {},
   "source": [
    "## 宝贝回家 完整爬虫\n",
    "\n",
    "初始化selenium"
   ]
  },
  {
   "cell_type": "code",
   "execution_count": 3,
   "metadata": {},
   "outputs": [
    {
     "name": "stderr",
     "output_type": "stream",
     "text": [
      "D:\\Python\\Python36\\Lib\\site-packages\\ipykernel_launcher.py:22: DeprecationWarning: use options instead of chrome_options\n"
     ]
    }
   ],
   "source": [
    "#selenium:3.12.0\n",
    "#webdriver:2.38\n",
    "#chrome.exe: 65.0.3325.181（正式版本） （32 位）\n",
    "\n",
    "from selenium import webdriver\n",
    "from selenium.webdriver.chrome.options import Options\n",
    "chrome_options = Options()\n",
    "chrome_options.add_argument('--no-sandbox')#解决DevToolsActivePort文件不存在的报错\n",
    "\n",
    "from selenium.webdriver.common.by import By\n",
    "from selenium.webdriver.support.ui import WebDriverWait\n",
    "from selenium.webdriver.support import expected_conditions as EC\n",
    "\n",
    "chrome_options.add_argument('window-size=1920x3000') #指定浏览器分辨率\n",
    "chrome_options.add_argument('--disable-gpu') #谷歌文档提到需要加上这个属性来规避bug\n",
    "chrome_options.add_argument('--hide-scrollbars') #隐藏滚动条, 应对一些特殊页面\n",
    "chrome_options.add_argument('blink-settings=imagesEnabled=false') #不加载图片, 提升速度\n",
    "#chrome_options.add_argument('--headless') #浏览器不提供可视化页面. linux下如果系统不支持可视化不加这条会启动失败\n",
    "chrome_options.binary_location = r\"C:\\Program Files (x86)\\Google\\Chrome\\Application\\chrome.exe\" #手动指定使用的浏览器位置\n",
    "\n",
    "\n",
    "driver=webdriver.Chrome(chrome_options=chrome_options)\n",
    "\n",
    "# driver.close() #切记关闭浏览器，回收资源"
   ]
  },
  {
   "cell_type": "markdown",
   "metadata": {},
   "source": [
    "## 定义保存页面的函数"
   ]
  },
  {
   "cell_type": "code",
   "execution_count": 4,
   "metadata": {},
   "outputs": [],
   "source": [
    "def save_page(page_text, page_num, type_name):\n",
    "    with open('save_pages_all/save_pages_{0}/{1}.txt'.format(type_name, page_num),'w',encoding='utf-8') as fp:\n",
    "        fp.write(page_text)"
   ]
  },
  {
   "attachments": {
    "type_choose.png": {
     "image/png": "[encoded data removed]"
    }
   },
   "cell_type": "markdown",
   "metadata": {},
   "source": [
    "## 开始打开首页，这里开始手动点击类型\n",
    "其中类型就是这几个的拼音\n",
    "![type_choose.png](attachment:type_choose.png)"
   ]
  },
  {
   "cell_type": "code",
   "execution_count": 5,
   "metadata": {},
   "outputs": [],
   "source": [
    "driver.get('https://www.baobeihuijia.com/so.aspx')\n",
    "\n",
    "type_name = 'jiaxunbaobei'"
   ]
  },
  {
   "cell_type": "markdown",
   "metadata": {},
   "source": [
    "## 手动点击完毕之后，再开始执行下面的代码"
   ]
  },
  {
   "cell_type": "code",
   "execution_count": 6,
   "metadata": {},
   "outputs": [
    {
     "name": "stdout",
     "output_type": "stream",
     "text": [
      "找到了\n"
     ]
    }
   ],
   "source": [
    "# 点击搜索按钮\n",
    "search_button = driver.find_element_by_xpath('//*[@id=\"searcher\"]/tbody/tr/td[4]/input[2]')\n",
    "try:\n",
    "    # 延迟等待\n",
    "    search_button.click()\n",
    "    element = WebDriverWait(driver, 60).until(\n",
    "        EC.presence_of_element_located((By.CLASS_NAME, 'HeaderStyle'))\n",
    "    )\n",
    "    text = driver.page_source\n",
    "    save_page(text, 1, type_name)\n",
    "finally:\n",
    "    print('找到了')"
   ]
  },
  {
   "cell_type": "markdown",
   "metadata": {},
   "source": [
    "## 定义点击下一页的函数"
   ]
  },
  {
   "cell_type": "code",
   "execution_count": 7,
   "metadata": {},
   "outputs": [],
   "source": [
    "def click_next_page():\n",
    "    page_text = None\n",
    "    search_button = driver.find_element_by_xpath('//*[@id=\"GridView1_ctl33_lbNext\"]')\n",
    "    try:\n",
    "        search_button.click()\n",
    "        element = WebDriverWait(driver, 60).until(\n",
    "            EC.presence_of_element_located((By.CLASS_NAME, 'HeaderStyle'))\n",
    "        )\n",
    "        page_text = driver.page_source\n",
    "        \n",
    "    finally:\n",
    "        return page_text"
   ]
  },
  {
   "cell_type": "markdown",
   "metadata": {},
   "source": [
    "~~如果爬到哪一页出问题了，这个函数会自动刷新~~\n",
    "\n",
    "这段代码后来证明没啥用"
   ]
  },
  {
   "cell_type": "markdown",
   "metadata": {},
   "source": [
    "## 开始爬取\n",
    "\n",
    "如果爬取失败，请手动刷新页面，手动换到出错的那一页，然后修改begin_page和end_page的值"
   ]
  },
  {
   "cell_type": "code",
   "execution_count": null,
   "metadata": {},
   "outputs": [],
   "source": [
    "begin_page = 0\n",
    "end_page = 1541\n",
    "\n",
    "for i in range(begin_page,end_page):\n",
    "    print('\\r', '{0}/{1}'.format(i,end_page), end='')\n",
    "    page_text = click_next_page()\n",
    "    \n",
    "    if page_text == None:\n",
    "        print('到了{0}页的时候坏死了'.format(i))\n",
    "        break\n",
    "   \n",
    "    save_page(page_text, i, type_name)"
   ]
  },
  {
   "cell_type": "markdown",
   "metadata": {},
   "source": []
  },
  {
   "cell_type": "code",
   "execution_count": null,
   "metadata": {},
   "outputs": [],
   "source": []
  },
  {
   "cell_type": "code",
   "execution_count": 20,
   "metadata": {},
   "outputs": [
    {
     "data": {
      "text/plain": [
       "'\\ndef renew_page(index):\\n    # 重新打开页面\\n    driver.get(\\'https://www.baobeihuijia.com/so.aspx\\')\\n    try:\\n        search_button.click()\\n        element = WebDriverWait(driver, 60).until(\\n            EC.presence_of_element_located((By.CLASS_NAME, \\'HeaderStyle\\'))\\n        )\\n    except:\\n        import traceback\\n        traceback.print_exc()\\n    print(\\'回到页码\\',index)\\n    input_text = driver.find_element_by_xpath(\\'//*[@id=\"keyword\"]\\')\\n    input_text.send_keys(\\'家寻宝贝\\')\\n    go_button = driver.find_element_by_xpath(\\'//*[@id=\"searcher\"]/tbody/tr/td[4]/input[2]\\')\\n    try:\\n        go_button.click()\\n        element = WebDriverWait(driver, 60).until(\\n            EC.presence_of_element_located((By.CLASS_NAME, \\'HeaderStyle\\'))\\n        )\\n        page_text = driver.page_source\\n        \\n    finally:\\n        print(\\'hi\\')\\n'"
      ]
     },
     "execution_count": 20,
     "metadata": {},
     "output_type": "execute_result"
    }
   ],
   "source": [
    "'''\n",
    "def renew_page(index):\n",
    "    # 重新打开页面\n",
    "    driver.get('https://www.baobeihuijia.com/so.aspx')\n",
    "    try:\n",
    "        search_button.click()\n",
    "        element = WebDriverWait(driver, 60).until(\n",
    "            EC.presence_of_element_located((By.CLASS_NAME, 'HeaderStyle'))\n",
    "        )\n",
    "    except:\n",
    "        import traceback\n",
    "        traceback.print_exc()\n",
    "    print('回到页码',index)\n",
    "    input_text = driver.find_element_by_xpath('//*[@id=\"keyword\"]')\n",
    "    input_text.send_keys('家寻宝贝')\n",
    "    go_button = driver.find_element_by_xpath('//*[@id=\"searcher\"]/tbody/tr/td[4]/input[2]')\n",
    "    try:\n",
    "        go_button.click()\n",
    "        element = WebDriverWait(driver, 60).until(\n",
    "            EC.presence_of_element_located((By.CLASS_NAME, 'HeaderStyle'))\n",
    "        )\n",
    "        page_text = driver.page_source\n",
    "        \n",
    "    finally:\n",
    "        print('hi')\n",
    "'''"
   ]
  }
 ],
 "metadata": {
  "kernelspec": {
   "display_name": "Python 3",
   "language": "python",
   "name": "python3"
  },
  "language_info": {
   "codemirror_mode": {
    "name": "ipython",
    "version": 3
   },
   "file_extension": ".py",
   "mimetype": "text/x-python",
   "name": "python",
   "nbconvert_exporter": "python",
   "pygments_lexer": "ipython3",
   "version": "3.6.8"
  }
 },
 "nbformat": 4,
 "nbformat_minor": 4
}
